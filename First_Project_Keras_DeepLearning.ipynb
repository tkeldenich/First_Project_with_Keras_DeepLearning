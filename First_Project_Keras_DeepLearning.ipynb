{
  "nbformat": 4,
  "nbformat_minor": 0,
  "metadata": {
    "colab": {
      "name": "First_Project_Keras_DeepLearning.ipynb",
      "provenance": [],
      "collapsed_sections": [],
      "authorship_tag": "ABX9TyM5BzEKY+Oxtz4JhPbISLDb",
      "include_colab_link": true
    },
    "kernelspec": {
      "name": "python3",
      "display_name": "Python 3"
    },
    "language_info": {
      "name": "python"
    }
  },
  "cells": [
    {
      "cell_type": "markdown",
      "metadata": {
        "id": "view-in-github",
        "colab_type": "text"
      },
      "source": [
        "<a href=\"https://colab.research.google.com/github/tkeldenich/First_Project_with_Keras_DeepLearning/blob/main/First_Project_Keras_DeepLearning.ipynb\" target=\"_parent\"><img src=\"https://colab.research.google.com/assets/colab-badge.svg\" alt=\"Open In Colab\"/></a>"
      ]
    },
    {
      "cell_type": "markdown",
      "source": [
        "# **First Project in Python with Keras – Easy Deep Learning**"
      ],
      "metadata": {
        "id": "BjrOJfO2cVfB"
      }
    },
    {
      "cell_type": "markdown",
      "source": [
        "*   [English Article](https://inside-machinelearning.com/en/first-projec-keras/)\n",
        "*   [French Article](https://inside-machinelearning.com/premier-projet-keras/)"
      ],
      "metadata": {
        "id": "9hhXW2YUiR44"
      }
    },
    {
      "cell_type": "markdown",
      "source": [
        "If you are new to Deep Learning, this article is for you! Your first Python project with Keras awaits you.\n",
        "\n",
        "Any beginner in Deep Learning must know Keras.\n",
        "\n",
        "It is a simple and easy to access library to create your first Neural Networks.\n",
        "\n",
        "Keras is part of a larger library: TensorFlow.\n",
        "\n",
        "**By learning how to use Keras you will also learn how to use TensorFlow which will give you the basis to reach a more advanced level.**\n",
        "\n",
        "Let’s start now this first project with Keras!"
      ],
      "metadata": {
        "id": "ygfzdfrocVjI"
      }
    },
    {
      "cell_type": "markdown",
      "source": [
        "## **First Step**"
      ],
      "metadata": {
        "id": "RuKi6NWccVlf"
      }
    },
    {
      "cell_type": "markdown",
      "source": [
        "### **Data**"
      ],
      "metadata": {
        "id": "ZRD09gjxcgUP"
      }
    },
    {
      "cell_type": "markdown",
      "source": [
        "A Deep Learning project is not only done with Keras.\n",
        "\n",
        "Here we’ll use the Pandas library to load our data. First, let’s import it:"
      ],
      "metadata": {
        "id": "DwrE1IGwc6oH"
      }
    },
    {
      "cell_type": "code",
      "source": [
        "import pandas as pd"
      ],
      "metadata": {
        "id": "XSRpJ6-jnw87"
      },
      "execution_count": null,
      "outputs": []
    },
    {
      "cell_type": "markdown",
      "source": [
        "Now we can load our dataset.\n",
        "\n",
        "For this project we will use the pima-indian-diabete dataset.\n",
        "\n",
        "This dataset comes from the National Institute of Diabetes and Digestive and Kidney Diseases.\n",
        "\n",
        "**The objective of this project is to predict if a patient is diabetic or not, based on diagnostic measures included in the dataset.**\n",
        "\n",
        "You can download the dataset on [this Github](https://github.com/tkeldenich/First_Project_with_Keras_DeepLearning).\n",
        "\n",
        "Once you have it, put it in your code environment (Notebook or folder) and load it with the read_csv function. You can then display it with the head function:"
      ],
      "metadata": {
        "id": "yM2QsvDAdGGW"
      }
    },
    {
      "cell_type": "code",
      "source": [
        "df = pd.read_csv('pima-indian-diabetes.csv') \n",
        "df.head()"
      ],
      "metadata": {
        "colab": {
          "base_uri": "https://localhost:8080/",
          "height": 204
        },
        "id": "lGcaLXjUnuNh",
        "outputId": "809c0e2d-6919-4bc9-cfab-afe13fb51390"
      },
      "execution_count": null,
      "outputs": [
        {
          "output_type": "execute_result",
          "data": {
            "text/plain": [
              "   Pregnancies  Glucose  BloodPressure  SkinThickness  Insulin   BMI  \\\n",
              "0            6      148             72             35        0  33.6   \n",
              "1            1       85             66             29        0  26.6   \n",
              "2            8      183             64              0        0  23.3   \n",
              "3            1       89             66             23       94  28.1   \n",
              "4            0      137             40             35      168  43.1   \n",
              "\n",
              "   DiabetesPedigreeFunction  Age  DiabetesPresence  \n",
              "0                     0.627   50                 1  \n",
              "1                     0.351   31                 0  \n",
              "2                     0.672   32                 1  \n",
              "3                     0.167   21                 0  \n",
              "4                     2.288   33                 1  "
            ],
            "text/html": [
              "\n",
              "  <div id=\"df-de3399d4-6330-4a52-98d9-22fdbf0f0242\">\n",
              "    <div class=\"colab-df-container\">\n",
              "      <div>\n",
              "<style scoped>\n",
              "    .dataframe tbody tr th:only-of-type {\n",
              "        vertical-align: middle;\n",
              "    }\n",
              "\n",
              "    .dataframe tbody tr th {\n",
              "        vertical-align: top;\n",
              "    }\n",
              "\n",
              "    .dataframe thead th {\n",
              "        text-align: right;\n",
              "    }\n",
              "</style>\n",
              "<table border=\"1\" class=\"dataframe\">\n",
              "  <thead>\n",
              "    <tr style=\"text-align: right;\">\n",
              "      <th></th>\n",
              "      <th>Pregnancies</th>\n",
              "      <th>Glucose</th>\n",
              "      <th>BloodPressure</th>\n",
              "      <th>SkinThickness</th>\n",
              "      <th>Insulin</th>\n",
              "      <th>BMI</th>\n",
              "      <th>DiabetesPedigreeFunction</th>\n",
              "      <th>Age</th>\n",
              "      <th>DiabetesPresence</th>\n",
              "    </tr>\n",
              "  </thead>\n",
              "  <tbody>\n",
              "    <tr>\n",
              "      <th>0</th>\n",
              "      <td>6</td>\n",
              "      <td>148</td>\n",
              "      <td>72</td>\n",
              "      <td>35</td>\n",
              "      <td>0</td>\n",
              "      <td>33.6</td>\n",
              "      <td>0.627</td>\n",
              "      <td>50</td>\n",
              "      <td>1</td>\n",
              "    </tr>\n",
              "    <tr>\n",
              "      <th>1</th>\n",
              "      <td>1</td>\n",
              "      <td>85</td>\n",
              "      <td>66</td>\n",
              "      <td>29</td>\n",
              "      <td>0</td>\n",
              "      <td>26.6</td>\n",
              "      <td>0.351</td>\n",
              "      <td>31</td>\n",
              "      <td>0</td>\n",
              "    </tr>\n",
              "    <tr>\n",
              "      <th>2</th>\n",
              "      <td>8</td>\n",
              "      <td>183</td>\n",
              "      <td>64</td>\n",
              "      <td>0</td>\n",
              "      <td>0</td>\n",
              "      <td>23.3</td>\n",
              "      <td>0.672</td>\n",
              "      <td>32</td>\n",
              "      <td>1</td>\n",
              "    </tr>\n",
              "    <tr>\n",
              "      <th>3</th>\n",
              "      <td>1</td>\n",
              "      <td>89</td>\n",
              "      <td>66</td>\n",
              "      <td>23</td>\n",
              "      <td>94</td>\n",
              "      <td>28.1</td>\n",
              "      <td>0.167</td>\n",
              "      <td>21</td>\n",
              "      <td>0</td>\n",
              "    </tr>\n",
              "    <tr>\n",
              "      <th>4</th>\n",
              "      <td>0</td>\n",
              "      <td>137</td>\n",
              "      <td>40</td>\n",
              "      <td>35</td>\n",
              "      <td>168</td>\n",
              "      <td>43.1</td>\n",
              "      <td>2.288</td>\n",
              "      <td>33</td>\n",
              "      <td>1</td>\n",
              "    </tr>\n",
              "  </tbody>\n",
              "</table>\n",
              "</div>\n",
              "      <button class=\"colab-df-convert\" onclick=\"convertToInteractive('df-de3399d4-6330-4a52-98d9-22fdbf0f0242')\"\n",
              "              title=\"Convert this dataframe to an interactive table.\"\n",
              "              style=\"display:none;\">\n",
              "        \n",
              "  <svg xmlns=\"http://www.w3.org/2000/svg\" height=\"24px\"viewBox=\"0 0 24 24\"\n",
              "       width=\"24px\">\n",
              "    <path d=\"M0 0h24v24H0V0z\" fill=\"none\"/>\n",
              "    <path d=\"M18.56 5.44l.94 2.06.94-2.06 2.06-.94-2.06-.94-.94-2.06-.94 2.06-2.06.94zm-11 1L8.5 8.5l.94-2.06 2.06-.94-2.06-.94L8.5 2.5l-.94 2.06-2.06.94zm10 10l.94 2.06.94-2.06 2.06-.94-2.06-.94-.94-2.06-.94 2.06-2.06.94z\"/><path d=\"M17.41 7.96l-1.37-1.37c-.4-.4-.92-.59-1.43-.59-.52 0-1.04.2-1.43.59L10.3 9.45l-7.72 7.72c-.78.78-.78 2.05 0 2.83L4 21.41c.39.39.9.59 1.41.59.51 0 1.02-.2 1.41-.59l7.78-7.78 2.81-2.81c.8-.78.8-2.07 0-2.86zM5.41 20L4 18.59l7.72-7.72 1.47 1.35L5.41 20z\"/>\n",
              "  </svg>\n",
              "      </button>\n",
              "      \n",
              "  <style>\n",
              "    .colab-df-container {\n",
              "      display:flex;\n",
              "      flex-wrap:wrap;\n",
              "      gap: 12px;\n",
              "    }\n",
              "\n",
              "    .colab-df-convert {\n",
              "      background-color: #E8F0FE;\n",
              "      border: none;\n",
              "      border-radius: 50%;\n",
              "      cursor: pointer;\n",
              "      display: none;\n",
              "      fill: #1967D2;\n",
              "      height: 32px;\n",
              "      padding: 0 0 0 0;\n",
              "      width: 32px;\n",
              "    }\n",
              "\n",
              "    .colab-df-convert:hover {\n",
              "      background-color: #E2EBFA;\n",
              "      box-shadow: 0px 1px 2px rgba(60, 64, 67, 0.3), 0px 1px 3px 1px rgba(60, 64, 67, 0.15);\n",
              "      fill: #174EA6;\n",
              "    }\n",
              "\n",
              "    [theme=dark] .colab-df-convert {\n",
              "      background-color: #3B4455;\n",
              "      fill: #D2E3FC;\n",
              "    }\n",
              "\n",
              "    [theme=dark] .colab-df-convert:hover {\n",
              "      background-color: #434B5C;\n",
              "      box-shadow: 0px 1px 3px 1px rgba(0, 0, 0, 0.15);\n",
              "      filter: drop-shadow(0px 1px 2px rgba(0, 0, 0, 0.3));\n",
              "      fill: #FFFFFF;\n",
              "    }\n",
              "  </style>\n",
              "\n",
              "      <script>\n",
              "        const buttonEl =\n",
              "          document.querySelector('#df-de3399d4-6330-4a52-98d9-22fdbf0f0242 button.colab-df-convert');\n",
              "        buttonEl.style.display =\n",
              "          google.colab.kernel.accessAllowed ? 'block' : 'none';\n",
              "\n",
              "        async function convertToInteractive(key) {\n",
              "          const element = document.querySelector('#df-de3399d4-6330-4a52-98d9-22fdbf0f0242');\n",
              "          const dataTable =\n",
              "            await google.colab.kernel.invokeFunction('convertToInteractive',\n",
              "                                                     [key], {});\n",
              "          if (!dataTable) return;\n",
              "\n",
              "          const docLinkHtml = 'Like what you see? Visit the ' +\n",
              "            '<a target=\"_blank\" href=https://colab.research.google.com/notebooks/data_table.ipynb>data table notebook</a>'\n",
              "            + ' to learn more about interactive tables.';\n",
              "          element.innerHTML = '';\n",
              "          dataTable['output_type'] = 'display_data';\n",
              "          await google.colab.output.renderOutput(dataTable, element);\n",
              "          const docLink = document.createElement('div');\n",
              "          docLink.innerHTML = docLinkHtml;\n",
              "          element.appendChild(docLink);\n",
              "        }\n",
              "      </script>\n",
              "    </div>\n",
              "  </div>\n",
              "  "
            ]
          },
          "metadata": {},
          "execution_count": 2
        }
      ]
    },
    {
      "cell_type": "markdown",
      "source": [
        "We now have our CSV file loaded in a Pandas DataFrame. This DataFrame allows us to easily manipulate our data.\n",
        "\n",
        "You can see that there are nine columns in total:\n",
        "\n",
        "- Pregnancies\n",
        "- Glucose\n",
        "- Blood Pressure\n",
        "- Skin Thickness\n",
        "- Insulin\n",
        "- BMI\n",
        "- Diabetes Pedigree Function\n",
        "- Age\n",
        "- Diabetes Presence\n",
        "\n",
        "Our second step is to extract the X and Y data. Our features and target.\n",
        "\n",
        "> Features are the data that will allow us to predict our target.\n",
        "\n",
        "In our case, we want to use the diagnostic data of each patient to predict the presence of diabetes (`DiabetesPresence`)."
      ],
      "metadata": {
        "id": "EQR0NjtZdN7W"
      }
    },
    {
      "cell_type": "code",
      "source": [
        "X = df.loc[:, df.columns != 'DiabetesPresence']\n",
        "Y = df.loc[:, 'DiabetesPresence']"
      ],
      "metadata": {
        "id": "MjVsIYkuoGRO"
      },
      "execution_count": null,
      "outputs": []
    },
    {
      "cell_type": "markdown",
      "source": [
        "X contains the whole dataset except the column DiabetesPresence. Y contains only the column DiabetesPresence.\n",
        "\n",
        "In the column `DiabetesPresence` :\n",
        "\n",
        "- 1 indicates the presence of Diabetes\n",
        "- 0 indicates the absence of Diabetes."
      ],
      "metadata": {
        "id": "vKfJLxMNdYeZ"
      }
    },
    {
      "cell_type": "markdown",
      "source": [
        "### **Deep Learning**"
      ],
      "metadata": {
        "id": "y-WzRinRdhhP"
      }
    },
    {
      "cell_type": "markdown",
      "source": [
        "Our data is now ready to be used.\n",
        "\n",
        "We can finally see what Keras is all about!\n",
        "\n",
        "**Here we import two functions:**\n",
        "\n",
        "- Sequential to initialize our model\n",
        "- Dense to add Dense layers to our model"
      ],
      "metadata": {
        "id": "z2m-9_Q2dfkQ"
      }
    },
    {
      "cell_type": "code",
      "source": [
        "from tensorflow.keras.models import Sequential\n",
        "from tensorflow.keras.layers import Dense"
      ],
      "metadata": {
        "id": "MRfkA_gsn26c"
      },
      "execution_count": null,
      "outputs": []
    },
    {
      "cell_type": "markdown",
      "source": [
        "We can now use these functions.\n",
        "\n",
        "First of all we initialize the model. Then we add layers to it:"
      ],
      "metadata": {
        "id": "RqYIgIn3dqu-"
      }
    },
    {
      "cell_type": "code",
      "source": [
        "model = Sequential()\n",
        "model.add(Dense(12, input_shape=(8,), activation='relu'))\n",
        "model.add(Dense(8, activation='relu'))\n",
        "model.add(Dense(1, activation='sigmoid'))"
      ],
      "metadata": {
        "id": "ONs33RRKhULW"
      },
      "execution_count": null,
      "outputs": []
    },
    {
      "cell_type": "markdown",
      "source": [
        "Here the model is quite simple. It has 4 layers:\n",
        "\n",
        "- Input + Hidden layer: model.add(Dense(12, input_shape=(8,), activation=’relu’))\n",
        "- Hidden: model.add(Dense(8, activation=’relu’))\n",
        "- Output: model.add(Dense(1, activation=’sigmoid’))\n",
        "\n",
        "> Notice that the first layer has in fact two layers.\n",
        "\n",
        "Indeed the first layer has an input layer indicated by the input_shape of 8. And a hidden layer Dense, in which we indicate the dimension 12 and the activation function relu (more information on these functions at the end of the article).\n",
        "\n",
        "**For the input and output layers, we must indicate the size of our dataset. In our case, the features have 8 columns. We indicate 8 in the input layer. The target has only one column. Then we indicate 1 in the output layer.**\n",
        "\n",
        "So our Deep Learning model will take as input our features and will give us as output a prediction of our target.\n",
        "\n",
        "Then, we can compile our model: we indicate to our model the loss function, the optimizer and the metric to use.\n",
        "\n",
        "*These are concepts that we will not cover in this tutorial. But keep in mind that these functions are the icing on the cake that allows us to train our Deep Learning model.*"
      ],
      "metadata": {
        "id": "cPpu9JdJds7A"
      }
    },
    {
      "cell_type": "code",
      "source": [
        "model.compile(loss='binary_crossentropy', optimizer='adam', metrics=['accuracy'])"
      ],
      "metadata": {
        "id": "pr0Uam7QhmFG"
      },
      "execution_count": null,
      "outputs": []
    },
    {
      "cell_type": "markdown",
      "source": [
        "Finally, we can train our model."
      ],
      "metadata": {
        "id": "neQ_kCDjeC8U"
      }
    },
    {
      "cell_type": "markdown",
      "source": [
        "### **Training**"
      ],
      "metadata": {
        "id": "nl_cxEKOeDb0"
      }
    },
    {
      "cell_type": "markdown",
      "source": [
        "During training, the model will iterate several times on our data. It tries predictions and compares them to the results it should predict. Then it adjusts its weights thanks to the functions defined during the compilation.\n",
        "\n",
        "These iterations are called epochs. When `epochs=100`, the model will iterate 100 times on the complete dataset."
      ],
      "metadata": {
        "id": "eRnLiLXNeDeF"
      }
    },
    {
      "cell_type": "code",
      "source": [
        "model.fit(X, Y, epochs=100)"
      ],
      "metadata": {
        "colab": {
          "base_uri": "https://localhost:8080/"
        },
        "id": "BQzZYYkchp5C",
        "outputId": "0c7ac611-5ebc-4f05-8b4b-c038cf1d352d"
      },
      "execution_count": null,
      "outputs": [
        {
          "output_type": "stream",
          "name": "stdout",
          "text": [
            "Epoch 1/100\n",
            "24/24 [==============================] - 1s 3ms/step - loss: 3.6226 - accuracy: 0.4727\n",
            "Epoch 2/100\n",
            "24/24 [==============================] - 0s 3ms/step - loss: 2.1144 - accuracy: 0.5768\n",
            "Epoch 3/100\n",
            "24/24 [==============================] - 0s 3ms/step - loss: 1.4636 - accuracy: 0.5938\n",
            "Epoch 4/100\n",
            "24/24 [==============================] - 0s 3ms/step - loss: 1.0403 - accuracy: 0.6107\n",
            "Epoch 5/100\n",
            "24/24 [==============================] - 0s 3ms/step - loss: 0.8284 - accuracy: 0.6263\n",
            "Epoch 6/100\n",
            "24/24 [==============================] - 0s 3ms/step - loss: 0.7189 - accuracy: 0.6367\n",
            "Epoch 7/100\n",
            "24/24 [==============================] - 0s 2ms/step - loss: 0.6817 - accuracy: 0.6484\n",
            "Epoch 8/100\n",
            "24/24 [==============================] - 0s 5ms/step - loss: 0.6731 - accuracy: 0.6445\n",
            "Epoch 9/100\n",
            "24/24 [==============================] - 0s 3ms/step - loss: 0.6652 - accuracy: 0.6523\n",
            "Epoch 10/100\n",
            "24/24 [==============================] - 0s 3ms/step - loss: 0.6511 - accuracy: 0.6510\n",
            "Epoch 11/100\n",
            "24/24 [==============================] - 0s 3ms/step - loss: 0.6450 - accuracy: 0.6523\n",
            "Epoch 12/100\n",
            "24/24 [==============================] - 0s 3ms/step - loss: 0.6429 - accuracy: 0.6484\n",
            "Epoch 13/100\n",
            "24/24 [==============================] - 0s 4ms/step - loss: 0.6350 - accuracy: 0.6536\n",
            "Epoch 14/100\n",
            "24/24 [==============================] - 0s 4ms/step - loss: 0.6351 - accuracy: 0.6536\n",
            "Epoch 15/100\n",
            "24/24 [==============================] - 0s 3ms/step - loss: 0.6309 - accuracy: 0.6523\n",
            "Epoch 16/100\n",
            "24/24 [==============================] - 0s 3ms/step - loss: 0.6275 - accuracy: 0.6536\n",
            "Epoch 17/100\n",
            "24/24 [==============================] - 0s 2ms/step - loss: 0.6239 - accuracy: 0.6523\n",
            "Epoch 18/100\n",
            "24/24 [==============================] - 0s 3ms/step - loss: 0.6219 - accuracy: 0.6523\n",
            "Epoch 19/100\n",
            "24/24 [==============================] - 0s 7ms/step - loss: 0.6219 - accuracy: 0.6536\n",
            "Epoch 20/100\n",
            "24/24 [==============================] - 0s 3ms/step - loss: 0.6177 - accuracy: 0.6523\n",
            "Epoch 21/100\n",
            "24/24 [==============================] - 0s 2ms/step - loss: 0.6125 - accuracy: 0.6549\n",
            "Epoch 22/100\n",
            "24/24 [==============================] - 0s 3ms/step - loss: 0.6108 - accuracy: 0.6536\n",
            "Epoch 23/100\n",
            "24/24 [==============================] - 0s 4ms/step - loss: 0.6100 - accuracy: 0.6536\n",
            "Epoch 24/100\n",
            "24/24 [==============================] - 0s 6ms/step - loss: 0.6087 - accuracy: 0.6549\n",
            "Epoch 25/100\n",
            "24/24 [==============================] - 0s 4ms/step - loss: 0.6049 - accuracy: 0.6549\n",
            "Epoch 26/100\n",
            "24/24 [==============================] - 0s 6ms/step - loss: 0.6043 - accuracy: 0.6549\n",
            "Epoch 27/100\n",
            "24/24 [==============================] - 0s 5ms/step - loss: 0.6067 - accuracy: 0.6549\n",
            "Epoch 28/100\n",
            "24/24 [==============================] - 0s 6ms/step - loss: 0.6064 - accuracy: 0.6549\n",
            "Epoch 29/100\n",
            "24/24 [==============================] - 0s 3ms/step - loss: 0.6052 - accuracy: 0.6523\n",
            "Epoch 30/100\n",
            "24/24 [==============================] - 0s 2ms/step - loss: 0.6026 - accuracy: 0.6549\n",
            "Epoch 31/100\n",
            "24/24 [==============================] - 0s 3ms/step - loss: 0.6028 - accuracy: 0.6549\n",
            "Epoch 32/100\n",
            "24/24 [==============================] - 0s 6ms/step - loss: 0.6024 - accuracy: 0.6536\n",
            "Epoch 33/100\n",
            "24/24 [==============================] - 0s 6ms/step - loss: 0.6009 - accuracy: 0.6549\n",
            "Epoch 34/100\n",
            "24/24 [==============================] - 0s 4ms/step - loss: 0.6010 - accuracy: 0.6536\n",
            "Epoch 35/100\n",
            "24/24 [==============================] - 0s 2ms/step - loss: 0.6031 - accuracy: 0.6549\n",
            "Epoch 36/100\n",
            "24/24 [==============================] - 0s 3ms/step - loss: 0.5990 - accuracy: 0.6523\n",
            "Epoch 37/100\n",
            "24/24 [==============================] - 0s 3ms/step - loss: 0.5985 - accuracy: 0.6536\n",
            "Epoch 38/100\n",
            "24/24 [==============================] - 0s 4ms/step - loss: 0.5986 - accuracy: 0.6549\n",
            "Epoch 39/100\n",
            "24/24 [==============================] - 0s 3ms/step - loss: 0.5970 - accuracy: 0.6536\n",
            "Epoch 40/100\n",
            "24/24 [==============================] - 0s 3ms/step - loss: 0.5990 - accuracy: 0.6536\n",
            "Epoch 41/100\n",
            "24/24 [==============================] - 0s 2ms/step - loss: 0.5988 - accuracy: 0.6536\n",
            "Epoch 42/100\n",
            "24/24 [==============================] - 0s 3ms/step - loss: 0.5997 - accuracy: 0.6536\n",
            "Epoch 43/100\n",
            "24/24 [==============================] - 0s 3ms/step - loss: 0.5976 - accuracy: 0.6523\n",
            "Epoch 44/100\n",
            "24/24 [==============================] - 0s 3ms/step - loss: 0.5970 - accuracy: 0.6523\n",
            "Epoch 45/100\n",
            "24/24 [==============================] - 0s 3ms/step - loss: 0.6031 - accuracy: 0.6549\n",
            "Epoch 46/100\n",
            "24/24 [==============================] - 0s 4ms/step - loss: 0.5976 - accuracy: 0.6523\n",
            "Epoch 47/100\n",
            "24/24 [==============================] - 0s 3ms/step - loss: 0.5969 - accuracy: 0.6549\n",
            "Epoch 48/100\n",
            "24/24 [==============================] - 0s 5ms/step - loss: 0.5983 - accuracy: 0.6523\n",
            "Epoch 49/100\n",
            "24/24 [==============================] - 0s 6ms/step - loss: 0.5973 - accuracy: 0.6549\n",
            "Epoch 50/100\n",
            "24/24 [==============================] - 0s 3ms/step - loss: 0.5962 - accuracy: 0.6549\n",
            "Epoch 51/100\n",
            "24/24 [==============================] - 0s 3ms/step - loss: 0.5967 - accuracy: 0.6536\n",
            "Epoch 52/100\n",
            "24/24 [==============================] - 0s 3ms/step - loss: 0.5955 - accuracy: 0.6536\n",
            "Epoch 53/100\n",
            "24/24 [==============================] - 0s 5ms/step - loss: 0.5950 - accuracy: 0.6523\n",
            "Epoch 54/100\n",
            "24/24 [==============================] - 0s 6ms/step - loss: 0.5967 - accuracy: 0.6562\n",
            "Epoch 55/100\n",
            "24/24 [==============================] - 0s 5ms/step - loss: 0.5971 - accuracy: 0.6536\n",
            "Epoch 56/100\n",
            "24/24 [==============================] - 0s 3ms/step - loss: 0.5955 - accuracy: 0.6549\n",
            "Epoch 57/100\n",
            "24/24 [==============================] - 0s 3ms/step - loss: 0.5953 - accuracy: 0.6562\n",
            "Epoch 58/100\n",
            "24/24 [==============================] - 0s 5ms/step - loss: 0.5969 - accuracy: 0.6562\n",
            "Epoch 59/100\n",
            "24/24 [==============================] - 0s 5ms/step - loss: 0.5952 - accuracy: 0.6536\n",
            "Epoch 60/100\n",
            "24/24 [==============================] - 0s 3ms/step - loss: 0.6002 - accuracy: 0.6562\n",
            "Epoch 61/100\n",
            "24/24 [==============================] - 0s 3ms/step - loss: 0.5883 - accuracy: 0.6549\n",
            "Epoch 62/100\n",
            "24/24 [==============================] - 0s 3ms/step - loss: 0.5897 - accuracy: 0.6549\n",
            "Epoch 63/100\n",
            "24/24 [==============================] - 0s 4ms/step - loss: 0.5911 - accuracy: 0.6562\n",
            "Epoch 64/100\n",
            "24/24 [==============================] - 0s 5ms/step - loss: 0.5896 - accuracy: 0.6549\n",
            "Epoch 65/100\n",
            "24/24 [==============================] - 0s 4ms/step - loss: 0.5891 - accuracy: 0.6576\n",
            "Epoch 66/100\n",
            "24/24 [==============================] - 0s 4ms/step - loss: 0.5823 - accuracy: 0.6549\n",
            "Epoch 67/100\n",
            "24/24 [==============================] - 0s 4ms/step - loss: 0.5871 - accuracy: 0.6562\n",
            "Epoch 68/100\n",
            "24/24 [==============================] - 0s 4ms/step - loss: 0.5828 - accuracy: 0.6562\n",
            "Epoch 69/100\n",
            "24/24 [==============================] - 0s 3ms/step - loss: 0.5803 - accuracy: 0.6576\n",
            "Epoch 70/100\n",
            "24/24 [==============================] - 0s 3ms/step - loss: 0.5891 - accuracy: 0.6589\n",
            "Epoch 71/100\n",
            "24/24 [==============================] - 0s 4ms/step - loss: 0.5848 - accuracy: 0.6562\n",
            "Epoch 72/100\n",
            "24/24 [==============================] - 0s 3ms/step - loss: 0.5835 - accuracy: 0.6576\n",
            "Epoch 73/100\n",
            "24/24 [==============================] - 0s 3ms/step - loss: 0.5807 - accuracy: 0.6549\n",
            "Epoch 74/100\n",
            "24/24 [==============================] - 0s 2ms/step - loss: 0.5792 - accuracy: 0.6576\n",
            "Epoch 75/100\n",
            "24/24 [==============================] - 0s 4ms/step - loss: 0.5797 - accuracy: 0.6562\n",
            "Epoch 76/100\n",
            "24/24 [==============================] - 0s 4ms/step - loss: 0.5814 - accuracy: 0.6589\n",
            "Epoch 77/100\n",
            "24/24 [==============================] - 0s 3ms/step - loss: 0.5777 - accuracy: 0.6549\n",
            "Epoch 78/100\n",
            "24/24 [==============================] - 0s 4ms/step - loss: 0.5812 - accuracy: 0.6549\n",
            "Epoch 79/100\n",
            "24/24 [==============================] - 0s 5ms/step - loss: 0.5826 - accuracy: 0.6523\n",
            "Epoch 80/100\n",
            "24/24 [==============================] - 0s 3ms/step - loss: 0.5853 - accuracy: 0.6523\n",
            "Epoch 81/100\n",
            "24/24 [==============================] - 0s 3ms/step - loss: 0.5826 - accuracy: 0.6562\n",
            "Epoch 82/100\n",
            "24/24 [==============================] - 0s 3ms/step - loss: 0.5793 - accuracy: 0.6562\n",
            "Epoch 83/100\n",
            "24/24 [==============================] - 0s 4ms/step - loss: 0.5813 - accuracy: 0.6562\n",
            "Epoch 84/100\n",
            "24/24 [==============================] - 0s 4ms/step - loss: 0.5786 - accuracy: 0.6576\n",
            "Epoch 85/100\n",
            "24/24 [==============================] - 0s 4ms/step - loss: 0.5790 - accuracy: 0.6536\n",
            "Epoch 86/100\n",
            "24/24 [==============================] - 0s 3ms/step - loss: 0.5788 - accuracy: 0.6562\n",
            "Epoch 87/100\n",
            "24/24 [==============================] - 0s 2ms/step - loss: 0.5783 - accuracy: 0.6562\n",
            "Epoch 88/100\n",
            "24/24 [==============================] - 0s 3ms/step - loss: 0.5740 - accuracy: 0.6576\n",
            "Epoch 89/100\n",
            "24/24 [==============================] - 0s 2ms/step - loss: 0.5787 - accuracy: 0.6562\n",
            "Epoch 90/100\n",
            "24/24 [==============================] - 0s 4ms/step - loss: 0.5775 - accuracy: 0.6536\n",
            "Epoch 91/100\n",
            "24/24 [==============================] - 0s 2ms/step - loss: 0.5762 - accuracy: 0.6562\n",
            "Epoch 92/100\n",
            "24/24 [==============================] - 0s 5ms/step - loss: 0.5764 - accuracy: 0.6549\n",
            "Epoch 93/100\n",
            "24/24 [==============================] - 0s 4ms/step - loss: 0.5757 - accuracy: 0.6536\n",
            "Epoch 94/100\n",
            "24/24 [==============================] - 0s 2ms/step - loss: 0.5754 - accuracy: 0.6549\n",
            "Epoch 95/100\n",
            "24/24 [==============================] - 0s 2ms/step - loss: 0.5783 - accuracy: 0.6536\n",
            "Epoch 96/100\n",
            "24/24 [==============================] - 0s 2ms/step - loss: 0.5763 - accuracy: 0.6523\n",
            "Epoch 97/100\n",
            "24/24 [==============================] - 0s 3ms/step - loss: 0.5743 - accuracy: 0.6562\n",
            "Epoch 98/100\n",
            "24/24 [==============================] - 0s 3ms/step - loss: 0.5737 - accuracy: 0.6562\n",
            "Epoch 99/100\n",
            "24/24 [==============================] - 0s 3ms/step - loss: 0.5752 - accuracy: 0.6536\n",
            "Epoch 100/100\n",
            "24/24 [==============================] - 0s 4ms/step - loss: 0.5738 - accuracy: 0.6549\n"
          ]
        },
        {
          "output_type": "execute_result",
          "data": {
            "text/plain": [
              "<keras.callbacks.History at 0x7f32a22fe290>"
            ]
          },
          "metadata": {},
          "execution_count": 7
        }
      ]
    },
    {
      "cell_type": "markdown",
      "source": [
        "The model is now trained!\n",
        "\n",
        "We can then evaluate its performance on our data. To do so, we use the `evaluate` function."
      ],
      "metadata": {
        "id": "2MbFKFl4eNG5"
      }
    },
    {
      "cell_type": "code",
      "source": [
        "_, accuracy = model.evaluate(X, Y)\n",
        "print('Accuracy: %.2f' % (accuracy*100))"
      ],
      "metadata": {
        "colab": {
          "base_uri": "https://localhost:8080/"
        },
        "id": "FOnBkAU8hrjz",
        "outputId": "b832a924-d7bc-44ac-feac-c8b1de2e213a"
      },
      "execution_count": null,
      "outputs": [
        {
          "output_type": "stream",
          "name": "stdout",
          "text": [
            "24/24 [==============================] - 0s 2ms/step - loss: 0.5728 - accuracy: 0.6562\n",
            "Accuracy: 65.62\n"
          ]
        }
      ]
    },
    {
      "cell_type": "markdown",
      "source": [
        "Our model has an accuracy of 73.83%. This is not bad but…\n",
        "\n",
        "…it does not represent the real accuracy of our model.\n",
        "**texte en gras**\n",
        "Indeed, in Deep Learning, we want to train an Artificial Intelligence model to be efficient in any situation.\n",
        "\n",
        "If we evaluate our model with the data on which it has been trained, it will necessarily perform better than on data it has never seen.\n",
        "\n",
        "**And this is precisely what we are interested in. To know if our Deep Learning model is able to use its knowledge on data it has never seen. If it can, we say that the model is able to generalize.**\n",
        "\n",
        "In the first part of this article, we used a single dataset for training and evaluating our data. But in reality, a real project isn’t done this way.\n",
        "\n",
        "Actually this part allowed us to validate that we can:\n",
        "\n",
        "- use our data\n",
        "- solve our problem with a Deep Learning model\n",
        "\n",
        "To go further, I propose you the second part of this article.\n",
        "\n",
        "There, we’ll see how to validate that our model is able to generalize."
      ],
      "metadata": {
        "id": "wWFKjuTJeU3x"
      }
    },
    {
      "cell_type": "markdown",
      "source": [
        "## **Going further**"
      ],
      "metadata": {
        "id": "Mrd7sVFM3393"
      }
    },
    {
      "cell_type": "markdown",
      "source": [
        "### **Data**"
      ],
      "metadata": {
        "id": "YJnthhnCegeG"
      }
    },
    {
      "cell_type": "markdown",
      "source": [
        "Our dataset contains 789 rows. In other words, we have the medical data of 789 patients.\n",
        "\n",
        "As we saw in the first part, we need several types of data: one to train our model and the other to evaluate its performance.\n",
        "\n",
        "These data have a name:\n",
        "\n",
        "- Training data: `df_train`\n",
        "- Test data: `df_test`\n",
        "Problem? We have only one dataset.\n",
        "\n",
        "Therefore we will create these two datasets ourselves from our CSV.\n",
        "\n",
        "A large part of this dataset will be used for training and a smaller part for evaluation.\n",
        "\n",
        "**We’ll take 80% of this data to train our model and 20% to evaluate it.**\n",
        "\n",
        "Fortunately Pandas allows us to do this easily:"
      ],
      "metadata": {
        "id": "2Bxk-b6Fegga"
      }
    },
    {
      "cell_type": "code",
      "source": [
        "df_train = df.sample(frac=0.8)\n",
        "df_test = df.drop(df_train.index)"
      ],
      "metadata": {
        "id": "8B0djTPo4S98"
      },
      "execution_count": null,
      "outputs": []
    },
    {
      "cell_type": "markdown",
      "source": [
        "First, we take randomly in our dataset 80% of the rows.\n",
        "\n",
        "Then, we take the remaining rows for evaluation data.\n",
        "\n",
        "We can display our training data to verify that our data is randomly picked:"
      ],
      "metadata": {
        "id": "eKvwNMJJe4i1"
      }
    },
    {
      "cell_type": "code",
      "source": [
        "df_train.head()"
      ],
      "metadata": {
        "colab": {
          "base_uri": "https://localhost:8080/",
          "height": 204
        },
        "id": "hRqIXRAR4XJ7",
        "outputId": "751bedf0-b907-491d-e46b-226d6cca4de3"
      },
      "execution_count": null,
      "outputs": [
        {
          "output_type": "execute_result",
          "data": {
            "text/plain": [
              "     Pregnancies  Glucose  BloodPressure  SkinThickness  Insulin   BMI  \\\n",
              "6              3       78             50             32       88  31.0   \n",
              "467            0       97             64             36      100  36.8   \n",
              "101            1      151             60              0        0  26.1   \n",
              "387            8      105            100             36        0  43.3   \n",
              "438            1       97             70             15        0  18.2   \n",
              "\n",
              "     DiabetesPedigreeFunction  Age  DiabetesPresence  \n",
              "6                       0.248   26                 1  \n",
              "467                     0.600   25                 0  \n",
              "101                     0.179   22                 0  \n",
              "387                     0.239   45                 1  \n",
              "438                     0.147   21                 0  "
            ],
            "text/html": [
              "\n",
              "  <div id=\"df-147fdfe8-160c-42d9-860b-38383ef3297d\">\n",
              "    <div class=\"colab-df-container\">\n",
              "      <div>\n",
              "<style scoped>\n",
              "    .dataframe tbody tr th:only-of-type {\n",
              "        vertical-align: middle;\n",
              "    }\n",
              "\n",
              "    .dataframe tbody tr th {\n",
              "        vertical-align: top;\n",
              "    }\n",
              "\n",
              "    .dataframe thead th {\n",
              "        text-align: right;\n",
              "    }\n",
              "</style>\n",
              "<table border=\"1\" class=\"dataframe\">\n",
              "  <thead>\n",
              "    <tr style=\"text-align: right;\">\n",
              "      <th></th>\n",
              "      <th>Pregnancies</th>\n",
              "      <th>Glucose</th>\n",
              "      <th>BloodPressure</th>\n",
              "      <th>SkinThickness</th>\n",
              "      <th>Insulin</th>\n",
              "      <th>BMI</th>\n",
              "      <th>DiabetesPedigreeFunction</th>\n",
              "      <th>Age</th>\n",
              "      <th>DiabetesPresence</th>\n",
              "    </tr>\n",
              "  </thead>\n",
              "  <tbody>\n",
              "    <tr>\n",
              "      <th>6</th>\n",
              "      <td>3</td>\n",
              "      <td>78</td>\n",
              "      <td>50</td>\n",
              "      <td>32</td>\n",
              "      <td>88</td>\n",
              "      <td>31.0</td>\n",
              "      <td>0.248</td>\n",
              "      <td>26</td>\n",
              "      <td>1</td>\n",
              "    </tr>\n",
              "    <tr>\n",
              "      <th>467</th>\n",
              "      <td>0</td>\n",
              "      <td>97</td>\n",
              "      <td>64</td>\n",
              "      <td>36</td>\n",
              "      <td>100</td>\n",
              "      <td>36.8</td>\n",
              "      <td>0.600</td>\n",
              "      <td>25</td>\n",
              "      <td>0</td>\n",
              "    </tr>\n",
              "    <tr>\n",
              "      <th>101</th>\n",
              "      <td>1</td>\n",
              "      <td>151</td>\n",
              "      <td>60</td>\n",
              "      <td>0</td>\n",
              "      <td>0</td>\n",
              "      <td>26.1</td>\n",
              "      <td>0.179</td>\n",
              "      <td>22</td>\n",
              "      <td>0</td>\n",
              "    </tr>\n",
              "    <tr>\n",
              "      <th>387</th>\n",
              "      <td>8</td>\n",
              "      <td>105</td>\n",
              "      <td>100</td>\n",
              "      <td>36</td>\n",
              "      <td>0</td>\n",
              "      <td>43.3</td>\n",
              "      <td>0.239</td>\n",
              "      <td>45</td>\n",
              "      <td>1</td>\n",
              "    </tr>\n",
              "    <tr>\n",
              "      <th>438</th>\n",
              "      <td>1</td>\n",
              "      <td>97</td>\n",
              "      <td>70</td>\n",
              "      <td>15</td>\n",
              "      <td>0</td>\n",
              "      <td>18.2</td>\n",
              "      <td>0.147</td>\n",
              "      <td>21</td>\n",
              "      <td>0</td>\n",
              "    </tr>\n",
              "  </tbody>\n",
              "</table>\n",
              "</div>\n",
              "      <button class=\"colab-df-convert\" onclick=\"convertToInteractive('df-147fdfe8-160c-42d9-860b-38383ef3297d')\"\n",
              "              title=\"Convert this dataframe to an interactive table.\"\n",
              "              style=\"display:none;\">\n",
              "        \n",
              "  <svg xmlns=\"http://www.w3.org/2000/svg\" height=\"24px\"viewBox=\"0 0 24 24\"\n",
              "       width=\"24px\">\n",
              "    <path d=\"M0 0h24v24H0V0z\" fill=\"none\"/>\n",
              "    <path d=\"M18.56 5.44l.94 2.06.94-2.06 2.06-.94-2.06-.94-.94-2.06-.94 2.06-2.06.94zm-11 1L8.5 8.5l.94-2.06 2.06-.94-2.06-.94L8.5 2.5l-.94 2.06-2.06.94zm10 10l.94 2.06.94-2.06 2.06-.94-2.06-.94-.94-2.06-.94 2.06-2.06.94z\"/><path d=\"M17.41 7.96l-1.37-1.37c-.4-.4-.92-.59-1.43-.59-.52 0-1.04.2-1.43.59L10.3 9.45l-7.72 7.72c-.78.78-.78 2.05 0 2.83L4 21.41c.39.39.9.59 1.41.59.51 0 1.02-.2 1.41-.59l7.78-7.78 2.81-2.81c.8-.78.8-2.07 0-2.86zM5.41 20L4 18.59l7.72-7.72 1.47 1.35L5.41 20z\"/>\n",
              "  </svg>\n",
              "      </button>\n",
              "      \n",
              "  <style>\n",
              "    .colab-df-container {\n",
              "      display:flex;\n",
              "      flex-wrap:wrap;\n",
              "      gap: 12px;\n",
              "    }\n",
              "\n",
              "    .colab-df-convert {\n",
              "      background-color: #E8F0FE;\n",
              "      border: none;\n",
              "      border-radius: 50%;\n",
              "      cursor: pointer;\n",
              "      display: none;\n",
              "      fill: #1967D2;\n",
              "      height: 32px;\n",
              "      padding: 0 0 0 0;\n",
              "      width: 32px;\n",
              "    }\n",
              "\n",
              "    .colab-df-convert:hover {\n",
              "      background-color: #E2EBFA;\n",
              "      box-shadow: 0px 1px 2px rgba(60, 64, 67, 0.3), 0px 1px 3px 1px rgba(60, 64, 67, 0.15);\n",
              "      fill: #174EA6;\n",
              "    }\n",
              "\n",
              "    [theme=dark] .colab-df-convert {\n",
              "      background-color: #3B4455;\n",
              "      fill: #D2E3FC;\n",
              "    }\n",
              "\n",
              "    [theme=dark] .colab-df-convert:hover {\n",
              "      background-color: #434B5C;\n",
              "      box-shadow: 0px 1px 3px 1px rgba(0, 0, 0, 0.15);\n",
              "      filter: drop-shadow(0px 1px 2px rgba(0, 0, 0, 0.3));\n",
              "      fill: #FFFFFF;\n",
              "    }\n",
              "  </style>\n",
              "\n",
              "      <script>\n",
              "        const buttonEl =\n",
              "          document.querySelector('#df-147fdfe8-160c-42d9-860b-38383ef3297d button.colab-df-convert');\n",
              "        buttonEl.style.display =\n",
              "          google.colab.kernel.accessAllowed ? 'block' : 'none';\n",
              "\n",
              "        async function convertToInteractive(key) {\n",
              "          const element = document.querySelector('#df-147fdfe8-160c-42d9-860b-38383ef3297d');\n",
              "          const dataTable =\n",
              "            await google.colab.kernel.invokeFunction('convertToInteractive',\n",
              "                                                     [key], {});\n",
              "          if (!dataTable) return;\n",
              "\n",
              "          const docLinkHtml = 'Like what you see? Visit the ' +\n",
              "            '<a target=\"_blank\" href=https://colab.research.google.com/notebooks/data_table.ipynb>data table notebook</a>'\n",
              "            + ' to learn more about interactive tables.';\n",
              "          element.innerHTML = '';\n",
              "          dataTable['output_type'] = 'display_data';\n",
              "          await google.colab.output.renderOutput(dataTable, element);\n",
              "          const docLink = document.createElement('div');\n",
              "          docLink.innerHTML = docLinkHtml;\n",
              "          element.appendChild(docLink);\n",
              "        }\n",
              "      </script>\n",
              "    </div>\n",
              "  </div>\n",
              "  "
            ]
          },
          "metadata": {},
          "execution_count": 11
        }
      ]
    },
    {
      "cell_type": "markdown",
      "source": [
        "We can see that the indexes on the very left column do not follow each other. This indicates that the dataset has been shuffled before picking df_train.\n",
        "\n",
        "But why randomly select or data?\n",
        "\n",
        "It allows us to make sure that the separation performed is not biased. Indeed, the dataset as we have it can be sorted beforehand without us being aware of it.\n",
        "\n",
        "If for example the patients with diabetes were present only at the beginning, and the patients without diabetes only at the end. This would give us training data containing only diabetics. Not ideal if our Deep Learning model has to learn to generalize.\n",
        "\n",
        "> To be able to generalize, our model must train on disparate data.\n",
        "\n",
        "Therefore I invite you to check your dataset before performing any operation on it.\n",
        "\n",
        "**A good practice is to always do a random separation to make sure you don’t end up with biased data.**\n",
        "\n",
        "From this new data, we can create the X features and Y target. The process is the same as in the first part:"
      ],
      "metadata": {
        "id": "oIPfDmg6e9eB"
      }
    },
    {
      "cell_type": "code",
      "source": [
        "X_train = df_train.loc[:, df.columns != 'DiabetesPresence']\n",
        "Y_train = df_train.loc[:, 'DiabetesPresence']\n",
        "X_test = df_test.loc[:, df.columns != 'DiabetesPresence']\n",
        "Y_test = df_test.loc[:, 'DiabetesPresence']"
      ],
      "metadata": {
        "id": "ZW3yeaDO5Qoh"
      },
      "execution_count": null,
      "outputs": []
    },
    {
      "cell_type": "markdown",
      "source": [
        "**Model**"
      ],
      "metadata": {
        "id": "D4a6dj-ofQ8Q"
      }
    },
    {
      "cell_type": "markdown",
      "source": [
        "Let’s take the structure of our previous Deep Learning model:"
      ],
      "metadata": {
        "id": "So8Z2h9ifYmE"
      }
    },
    {
      "cell_type": "code",
      "source": [
        "model = Sequential()\n",
        "model.add(Dense(12, input_shape=(8,), activation='relu'))\n",
        "model.add(Dense(8, activation='relu'))\n",
        "model.add(Dense(1, activation='sigmoid'))"
      ],
      "metadata": {
        "id": "RSbah1Cf51ON"
      },
      "execution_count": null,
      "outputs": []
    },
    {
      "cell_type": "markdown",
      "source": [
        "We can now display its diagram to understand in more detail the Neural Network we’ve just created.\n",
        "\n",
        "The diagram of a Neural Network allows us to better understand its structure. To do this we use the `plot_model` function:"
      ],
      "metadata": {
        "id": "KLtB-RPufaWj"
      }
    },
    {
      "cell_type": "code",
      "source": [
        "from tensorflow.keras.utils import plot_model\n",
        "\n",
        "plot_model(model, to_file=\"model.png\", show_shapes=True, show_layer_names=False, show_layer_activations=True)"
      ],
      "metadata": {
        "colab": {
          "base_uri": "https://localhost:8080/",
          "height": 422
        },
        "id": "zOF-C3a37b4n",
        "outputId": "a7b8f81c-c2a9-4337-e7e2-356d25dd5fd1"
      },
      "execution_count": null,
      "outputs": [
        {
          "output_type": "execute_result",
          "data": {
            "text/plain": [
              "<IPython.core.display.Image object>"
            ],
            "image/png": "[encoded data removed]"
          },
          "metadata": {},
          "execution_count": 107
        }
      ]
    },
    {
      "cell_type": "markdown",
      "source": [
        "The diagram allows us to visualize the four layers of our Neural Network, their activation function, their input and their output.\n",
        "\n",
        "For example, our third layer has a `relu` activation function and has 12 neurons as input and 8 as output.\n",
        "\n",
        "Now let’s compile our model:"
      ],
      "metadata": {
        "id": "zWYbgYfMfe_9"
      }
    },
    {
      "cell_type": "code",
      "source": [
        "model.compile(loss='binary_crossentropy', optimizer='adam', metrics=['accuracy'])"
      ],
      "metadata": {
        "id": "K1I-0NYG51OO"
      },
      "execution_count": null,
      "outputs": []
    },
    {
      "cell_type": "markdown",
      "source": [
        "Finally, let’s move on to the most important part: the training.\n",
        "\n",
        "**Here we will make some changes regarding to the previous code.**\n",
        "\n",
        "First of all let’s add the `validation_split` this parameter will separate our training data in 2 sub-datasets:\n",
        "\n",
        "- training data\n",
        "- validation data\n",
        "\n",
        "*Note: validation data is not the same as evaluation data. Validation allows us to validate performance as we train. Evaluation is used to assess the model at the end of the training.*\n",
        "\n",
        "**These concepts will become clearer throughout this article.**\n",
        "\n",
        "We also indicate that we want to recover the history of the training. This will allow us to analyze our model in more detail. To do this we indicate `history =` at the beginning of the line.\n",
        "\n",
        "Let’s start the training:"
      ],
      "metadata": {
        "id": "KH17twMkfmwB"
      }
    },
    {
      "cell_type": "code",
      "source": [
        "history = model.fit(X_train, Y_train, validation_split=0.2, epochs=50, batch_size=10)"
      ],
      "metadata": {
        "colab": {
          "base_uri": "https://localhost:8080/"
        },
        "outputId": "4884973e-c805-413d-9301-dc573b412ee1",
        "id": "k1BYfK9Z51OO"
      },
      "execution_count": null,
      "outputs": [
        {
          "output_type": "stream",
          "name": "stdout",
          "text": [
            "Epoch 1/50\n",
            "50/50 [==============================] - 1s 6ms/step - loss: 3.5232 - accuracy: 0.5682 - val_loss: 1.8448 - val_accuracy: 0.5935\n",
            "Epoch 2/50\n",
            "50/50 [==============================] - 0s 3ms/step - loss: 1.4388 - accuracy: 0.6497 - val_loss: 1.6078 - val_accuracy: 0.6016\n",
            "Epoch 3/50\n",
            "50/50 [==============================] - 0s 2ms/step - loss: 1.2592 - accuracy: 0.6273 - val_loss: 1.4638 - val_accuracy: 0.5935\n",
            "Epoch 4/50\n",
            "50/50 [==============================] - 0s 2ms/step - loss: 1.1423 - accuracy: 0.6619 - val_loss: 1.3112 - val_accuracy: 0.5772\n",
            "Epoch 5/50\n",
            "50/50 [==============================] - 0s 2ms/step - loss: 1.0667 - accuracy: 0.6395 - val_loss: 1.3087 - val_accuracy: 0.5772\n",
            "Epoch 6/50\n",
            "50/50 [==============================] - 0s 3ms/step - loss: 0.9412 - accuracy: 0.6741 - val_loss: 1.1680 - val_accuracy: 0.5854\n",
            "Epoch 7/50\n",
            "50/50 [==============================] - 0s 2ms/step - loss: 0.9176 - accuracy: 0.6599 - val_loss: 1.1191 - val_accuracy: 0.6098\n",
            "Epoch 8/50\n",
            "50/50 [==============================] - 0s 2ms/step - loss: 0.8328 - accuracy: 0.6843 - val_loss: 1.1666 - val_accuracy: 0.5610\n",
            "Epoch 9/50\n",
            "50/50 [==============================] - 0s 2ms/step - loss: 0.8465 - accuracy: 0.6680 - val_loss: 1.1750 - val_accuracy: 0.5610\n",
            "Epoch 10/50\n",
            "50/50 [==============================] - 0s 3ms/step - loss: 0.8116 - accuracy: 0.6782 - val_loss: 0.9965 - val_accuracy: 0.6098\n",
            "Epoch 11/50\n",
            "50/50 [==============================] - 0s 3ms/step - loss: 0.7606 - accuracy: 0.6782 - val_loss: 1.0319 - val_accuracy: 0.5610\n",
            "Epoch 12/50\n",
            "50/50 [==============================] - 0s 3ms/step - loss: 0.8106 - accuracy: 0.6517 - val_loss: 0.9564 - val_accuracy: 0.5854\n",
            "Epoch 13/50\n",
            "50/50 [==============================] - 0s 2ms/step - loss: 0.7152 - accuracy: 0.7047 - val_loss: 0.9167 - val_accuracy: 0.6585\n",
            "Epoch 14/50\n",
            "50/50 [==============================] - 0s 3ms/step - loss: 0.7181 - accuracy: 0.6762 - val_loss: 0.8133 - val_accuracy: 0.6585\n",
            "Epoch 15/50\n",
            "50/50 [==============================] - 0s 3ms/step - loss: 0.7196 - accuracy: 0.6864 - val_loss: 0.8784 - val_accuracy: 0.6016\n",
            "Epoch 16/50\n",
            "50/50 [==============================] - 0s 3ms/step - loss: 0.6875 - accuracy: 0.6782 - val_loss: 0.8901 - val_accuracy: 0.5528\n",
            "Epoch 17/50\n",
            "50/50 [==============================] - 0s 2ms/step - loss: 0.6612 - accuracy: 0.6782 - val_loss: 0.8025 - val_accuracy: 0.6098\n",
            "Epoch 18/50\n",
            "50/50 [==============================] - 0s 2ms/step - loss: 0.6655 - accuracy: 0.6741 - val_loss: 0.8083 - val_accuracy: 0.5935\n",
            "Epoch 19/50\n",
            "50/50 [==============================] - 0s 2ms/step - loss: 0.6555 - accuracy: 0.6741 - val_loss: 0.7498 - val_accuracy: 0.6179\n",
            "Epoch 20/50\n",
            "50/50 [==============================] - 0s 3ms/step - loss: 0.6252 - accuracy: 0.6884 - val_loss: 0.8231 - val_accuracy: 0.5772\n",
            "Epoch 21/50\n",
            "50/50 [==============================] - 0s 2ms/step - loss: 0.6597 - accuracy: 0.6558 - val_loss: 0.7371 - val_accuracy: 0.6260\n",
            "Epoch 22/50\n",
            "50/50 [==============================] - 0s 3ms/step - loss: 0.6162 - accuracy: 0.6925 - val_loss: 0.7312 - val_accuracy: 0.6423\n",
            "Epoch 23/50\n",
            "50/50 [==============================] - 0s 3ms/step - loss: 0.6109 - accuracy: 0.6864 - val_loss: 0.7608 - val_accuracy: 0.5935\n",
            "Epoch 24/50\n",
            "50/50 [==============================] - 0s 2ms/step - loss: 0.6070 - accuracy: 0.6945 - val_loss: 0.7747 - val_accuracy: 0.5854\n",
            "Epoch 25/50\n",
            "50/50 [==============================] - 0s 2ms/step - loss: 0.6409 - accuracy: 0.6741 - val_loss: 0.7036 - val_accuracy: 0.6748\n",
            "Epoch 26/50\n",
            "50/50 [==============================] - 0s 2ms/step - loss: 0.6610 - accuracy: 0.7047 - val_loss: 0.6856 - val_accuracy: 0.6911\n",
            "Epoch 27/50\n",
            "50/50 [==============================] - 0s 2ms/step - loss: 0.6161 - accuracy: 0.7006 - val_loss: 0.6881 - val_accuracy: 0.6911\n",
            "Epoch 28/50\n",
            "50/50 [==============================] - 0s 2ms/step - loss: 0.6327 - accuracy: 0.7026 - val_loss: 0.6814 - val_accuracy: 0.6341\n",
            "Epoch 29/50\n",
            "50/50 [==============================] - 0s 2ms/step - loss: 0.5987 - accuracy: 0.7088 - val_loss: 0.6876 - val_accuracy: 0.6341\n",
            "Epoch 30/50\n",
            "50/50 [==============================] - 0s 3ms/step - loss: 0.6087 - accuracy: 0.6945 - val_loss: 0.7039 - val_accuracy: 0.6341\n",
            "Epoch 31/50\n",
            "50/50 [==============================] - 0s 2ms/step - loss: 0.5924 - accuracy: 0.6864 - val_loss: 0.6879 - val_accuracy: 0.6504\n",
            "Epoch 32/50\n",
            "50/50 [==============================] - 0s 2ms/step - loss: 0.5945 - accuracy: 0.7047 - val_loss: 0.6916 - val_accuracy: 0.6504\n",
            "Epoch 33/50\n",
            "50/50 [==============================] - 0s 2ms/step - loss: 0.5961 - accuracy: 0.7088 - val_loss: 0.6940 - val_accuracy: 0.6504\n",
            "Epoch 34/50\n",
            "50/50 [==============================] - 0s 2ms/step - loss: 0.6124 - accuracy: 0.7026 - val_loss: 0.7350 - val_accuracy: 0.6829\n",
            "Epoch 35/50\n",
            "50/50 [==============================] - 0s 2ms/step - loss: 0.5892 - accuracy: 0.7169 - val_loss: 0.6607 - val_accuracy: 0.6585\n",
            "Epoch 36/50\n",
            "50/50 [==============================] - 0s 2ms/step - loss: 0.5766 - accuracy: 0.7373 - val_loss: 0.6484 - val_accuracy: 0.6667\n",
            "Epoch 37/50\n",
            "50/50 [==============================] - 0s 4ms/step - loss: 0.6112 - accuracy: 0.6884 - val_loss: 0.6473 - val_accuracy: 0.6992\n",
            "Epoch 38/50\n",
            "50/50 [==============================] - 0s 5ms/step - loss: 0.5816 - accuracy: 0.6945 - val_loss: 0.6991 - val_accuracy: 0.6992\n",
            "Epoch 39/50\n",
            "50/50 [==============================] - 0s 4ms/step - loss: 0.5864 - accuracy: 0.7026 - val_loss: 0.6525 - val_accuracy: 0.6829\n",
            "Epoch 40/50\n",
            "50/50 [==============================] - 0s 4ms/step - loss: 0.5811 - accuracy: 0.7047 - val_loss: 0.6647 - val_accuracy: 0.7398\n",
            "Epoch 41/50\n",
            "50/50 [==============================] - 0s 5ms/step - loss: 0.5888 - accuracy: 0.7149 - val_loss: 0.6759 - val_accuracy: 0.6911\n",
            "Epoch 42/50\n",
            "50/50 [==============================] - 0s 4ms/step - loss: 0.5805 - accuracy: 0.7088 - val_loss: 0.6605 - val_accuracy: 0.7073\n",
            "Epoch 43/50\n",
            "50/50 [==============================] - 0s 5ms/step - loss: 0.5799 - accuracy: 0.7026 - val_loss: 0.6449 - val_accuracy: 0.6748\n",
            "Epoch 44/50\n",
            "50/50 [==============================] - 0s 5ms/step - loss: 0.6443 - accuracy: 0.6904 - val_loss: 0.6478 - val_accuracy: 0.7154\n",
            "Epoch 45/50\n",
            "50/50 [==============================] - 0s 4ms/step - loss: 0.5835 - accuracy: 0.7108 - val_loss: 0.6947 - val_accuracy: 0.6911\n",
            "Epoch 46/50\n",
            "50/50 [==============================] - 0s 4ms/step - loss: 0.5694 - accuracy: 0.7251 - val_loss: 0.6589 - val_accuracy: 0.6585\n",
            "Epoch 47/50\n",
            "50/50 [==============================] - 0s 2ms/step - loss: 0.5614 - accuracy: 0.7189 - val_loss: 0.6514 - val_accuracy: 0.6667\n",
            "Epoch 48/50\n",
            "50/50 [==============================] - 0s 2ms/step - loss: 0.5764 - accuracy: 0.7189 - val_loss: 0.6807 - val_accuracy: 0.6260\n",
            "Epoch 49/50\n",
            "50/50 [==============================] - 0s 2ms/step - loss: 0.5676 - accuracy: 0.7271 - val_loss: 0.6415 - val_accuracy: 0.6667\n",
            "Epoch 50/50\n",
            "50/50 [==============================] - 0s 3ms/step - loss: 0.5635 - accuracy: 0.7251 - val_loss: 0.6163 - val_accuracy: 0.6911\n"
          ]
        }
      ]
    },
    {
      "cell_type": "markdown",
      "source": [
        "### **Analysis**"
      ],
      "metadata": {
        "id": "DotaOwFgf1Xe"
      }
    },
    {
      "cell_type": "markdown",
      "source": [
        "Once the training is finished, we can visually analyze what happened during this process.\n",
        "\n",
        "For this we use the Matplotlib library:"
      ],
      "metadata": {
        "id": "8ctyLmJFfzdX"
      }
    },
    {
      "cell_type": "code",
      "source": [
        "from matplotlib import pyplot as plt"
      ],
      "metadata": {
        "id": "EnNS01af6bm7"
      },
      "execution_count": null,
      "outputs": []
    },
    {
      "cell_type": "markdown",
      "source": [
        "Our `history` variable has recorded all the information about the model training.\n",
        "\n",
        "At each epoch the model :\n",
        "\n",
        "- makes predictions on training AND validation data\n",
        "- compares its predictions on training AND validation data with the expected result\n",
        "- changes its weights according to its performance on training data ONLY\n",
        "\n",
        "The validation data are solely present to validate the results of the model on external data. Those on which it does not train.\n",
        "\n",
        "In fact, this allows to counter what is called overfitting.\n",
        "\n",
        "> Overfitting occurs when the model specializes too much on the training data.\n",
        "\n",
        "**It then performs well on training data but fails to predict good results on the other data.**\n",
        "\n",
        "The validation data are used to check that this does not happen.\n",
        "\n",
        "Let’s display the results:"
      ],
      "metadata": {
        "id": "rcwYTFBMf4Xw"
      }
    },
    {
      "cell_type": "code",
      "source": [
        "plt.plot(history.history['accuracy'], color='#066b8b')\n",
        "plt.plot(history.history['val_accuracy'], color='#b39200')\n",
        "plt.title('model accuracy')\n",
        "plt.ylabel('accuracy')\n",
        "plt.xlabel('epoch')\n",
        "plt.legend(['train', 'val'], loc='upper left')\n",
        "plt.show()"
      ],
      "metadata": {
        "colab": {
          "base_uri": "https://localhost:8080/",
          "height": 295
        },
        "id": "jJKCXtbK6G73",
        "outputId": "c3903f26-fb71-4b0b-8a9e-e80de1226c80"
      },
      "execution_count": null,
      "outputs": [
        {
          "output_type": "display_data",
          "data": {
            "text/plain": [
              "<Figure size 432x288 with 1 Axes>"
            ],
            "image/png": "[encoded data removed]"
          },
          "metadata": {
            "needs_background": "light"
          }
        }
      ]
    },
    {
      "cell_type": "markdown",
      "source": [
        "In blue the results on training data. In orange the results on validation data.\n",
        "\n",
        "If the orange curve follows the blue curve the training is well done. When the model increases its performance on the training data, it also increases its performance on the validation data. This indicates that the model generalizes well.\n",
        "\n",
        "Visually we can see the overfitting when the validation curve deviates from the training curve. Here we can see that it starts to deviate from epoch 45 to come back on the right path at epoch 50.\n",
        "\n",
        "**Keep in mind that there will always be a gap between the results of the training curve and those of the validation curve. This is because the model is trained explicitly on the training data. It therefore performs better in this context.**\n",
        "\n",
        "Our goal is to keep this gap as small as possible and keep the curves in line.\n",
        "\n",
        "At epoch 50, the accuracy gap between the training and validation data is less than 0.5. This is considered acceptable.\n",
        "\n",
        "If this wasn’t the case, we would have had to rerun the training with other parameters."
      ],
      "metadata": {
        "id": "Gwv54rrggGcQ"
      }
    },
    {
      "cell_type": "markdown",
      "source": [
        "### **Predictions**"
      ],
      "metadata": {
        "id": "wsLp-EeogPbk"
      }
    },
    {
      "cell_type": "markdown",
      "source": [
        "**Now how to make predictions on new data?**\n",
        "\n",
        "We can reuse our model to make it predict the presence of diabetes on new data. For that nothing is easier, we use the `predict``\n",
        " function:"
      ],
      "metadata": {
        "id": "xXvQPyqYgRab"
      }
    },
    {
      "cell_type": "code",
      "source": [
        "predictions = model.predict(X_test)"
      ],
      "metadata": {
        "id": "PmberNNcht9w"
      },
      "execution_count": null,
      "outputs": []
    },
    {
      "cell_type": "markdown",
      "source": [
        "We get an array of predictions.\n",
        "\n",
        "Let’s display the first element:"
      ],
      "metadata": {
        "id": "KIlA2ybigXbu"
      }
    },
    {
      "cell_type": "code",
      "source": [
        "predictions[0]"
      ],
      "metadata": {
        "colab": {
          "base_uri": "https://localhost:8080/"
        },
        "id": "Ettk0CzA0bqx",
        "outputId": "f424144c-44a2-4aba-a5a5-68b6d16b2eb5"
      },
      "execution_count": null,
      "outputs": [
        {
          "output_type": "execute_result",
          "data": {
            "text/plain": [
              "array([0.7407335], dtype=float32)"
            ]
          },
          "metadata": {},
          "execution_count": 127
        }
      ]
    },
    {
      "cell_type": "markdown",
      "source": [
        "Here we get neither 1 nor 0 but a decimal 0.74. In fact it is a probability.\n",
        "\n",
        "**We can establish this rule: if the probability is above 50%, there is diabetes otherwise there is no diabetes.**\n",
        "\n",
        "Let’s modify the result of these predictions to have only 0 and 1:"
      ],
      "metadata": {
        "id": "1H8d1u2pgYe_"
      }
    },
    {
      "cell_type": "code",
      "source": [
        "predictions = (model.predict(X_test) > 0.5).astype(int)"
      ],
      "metadata": {
        "id": "6hxRXPeU0aoc"
      },
      "execution_count": null,
      "outputs": []
    },
    {
      "cell_type": "markdown",
      "source": [
        "Now, instead of having probabilities we have 0’s and 1’s representing the presence of diabetes according to the rule established above.\n",
        "\n",
        "We can display the first predictions and compare them to the expected results:"
      ],
      "metadata": {
        "id": "snjh9bfKgZC3"
      }
    },
    {
      "cell_type": "code",
      "source": [
        "for i in range(5):\n",
        "\tprint('%s => Predicted : %d,  Expected : %d' % (X_test.iloc[i].tolist(), predictions[i], Y_test.iloc[i]))"
      ],
      "metadata": {
        "colab": {
          "base_uri": "https://localhost:8080/"
        },
        "id": "xGQxCmpkiFaD",
        "outputId": "bfc465bf-d663-46cf-a7a6-d320d32769dd"
      },
      "execution_count": null,
      "outputs": [
        {
          "output_type": "stream",
          "name": "stdout",
          "text": [
            "[8.0, 183.0, 64.0, 0.0, 0.0, 23.3, 0.672, 32.0] => Predicted : 1,  Expected : 1\n",
            "[10.0, 115.0, 0.0, 0.0, 0.0, 35.3, 0.134, 29.0] => Predicted : 1,  Expected : 0\n",
            "[2.0, 197.0, 70.0, 45.0, 543.0, 30.5, 0.158, 53.0] => Predicted : 1,  Expected : 1\n",
            "[1.0, 189.0, 60.0, 23.0, 846.0, 30.1, 0.398, 59.0] => Predicted : 1,  Expected : 1\n",
            "[7.0, 107.0, 74.0, 0.0, 0.0, 29.6, 0.254, 31.0] => Predicted : 0,  Expected : 1\n"
          ]
        }
      ]
    },
    {
      "cell_type": "markdown",
      "source": [
        "**The model makes good predictions on most of the cases.**\n",
        "\n",
        "We could continue to evaluate line by line each prediction of our model.\n",
        "\n",
        "But we will prefer the function included in Keras evaluate to determine its performance:"
      ],
      "metadata": {
        "id": "-VC5zNOtgZhS"
      }
    },
    {
      "cell_type": "code",
      "source": [
        "_, accuracy = model.evaluate(X_test, Y_test)\n",
        "print('Accuracy: %.2f' % (accuracy*100))"
      ],
      "metadata": {
        "colab": {
          "base_uri": "https://localhost:8080/"
        },
        "id": "NtdiGOjwwfyh",
        "outputId": "fe04fce8-1007-4be7-d2cc-b1b91ea50228"
      },
      "execution_count": null,
      "outputs": [
        {
          "output_type": "stream",
          "name": "stdout",
          "text": [
            "5/5 [==============================] - 0s 3ms/step - loss: 0.5607 - accuracy: 0.7273\n",
            "Accuracy: 72.73\n"
          ]
        }
      ]
    },
    {
      "cell_type": "markdown",
      "source": [
        "The result is quite good. We are very close to the value obtained in the first part of 73.83. This indicates that the model succeeds in generalizing."
      ],
      "metadata": {
        "id": "-XVJV0M8gaIH"
      }
    },
    {
      "cell_type": "markdown",
      "source": [
        ""
      ],
      "metadata": {
        "id": "TfUDn5AMg6R6"
      }
    },
    {
      "cell_type": "markdown",
      "source": [
        "## **To conclude**"
      ],
      "metadata": {
        "id": "tskIJ0Jkg6T4"
      }
    },
    {
      "cell_type": "markdown",
      "source": [
        "You have developed your first Neural Network with Keras and with an impressive prediction of 72%!\n",
        "\n",
        "> Will you be able to exceed this result?\n",
        "\n",
        "To do so, several techniques are offered to you:\n",
        "\n",
        "- Add layers\n",
        "- Modify [the activation functions](https://inside-machinelearning.com/en/activation-function-how-does-it-work-a-simple-explanation/)\n",
        "- Use other functions at compile time\n",
        "- Modify the training parameters of the model\n",
        "\n",
        "And keep in mind to ensure that your model is not overfitting!\n",
        "\n",
        "If you want to continue learning, our article on activation functions is waiting for you here: [Activation function, how does it work ? – A simple explanation.](https://inside-machinelearning.com/en/activation-function-how-does-it-work-a-simple-explanation/)"
      ],
      "metadata": {
        "id": "7hoCVA5Gg925"
      }
    },
    {
      "cell_type": "code",
      "source": [
        ""
      ],
      "metadata": {
        "id": "V9PMuzZEhPhe"
      },
      "execution_count": null,
      "outputs": []
    }
  ]
}